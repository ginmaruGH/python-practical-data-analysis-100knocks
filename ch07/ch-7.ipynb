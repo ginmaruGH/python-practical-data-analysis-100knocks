{
 "cells": [
  {
   "cell_type": "code",
   "execution_count": 53,
   "metadata": {},
   "outputs": [],
   "source": [
    "import warnings\n",
    "import numpy as np\n",
    "import pandas as pd\n",
    "import matplotlib.pyplot as plt\n",
    "from IPython.display import display\n",
    "\n",
    "from itertools import product\n",
    "from pulp import LpVariable, lpSum, value\n",
    "from ortoolpy import model_min, addvars, addvals\n",
    "import networkx as nx\n",
    "\n",
    "warnings.filterwarnings('ignore')\n",
    "np.set_printoptions(suppress=True, precision=4)\n",
    "pd.options.display.float_format = '{:.4f}'.format\n",
    "pd.set_option(\"display.max_columns\", None)\n",
    "plt.style.use('seaborn')\n",
    "plt.rcParams[\"font.size\"] = 14\n",
    "plt.rcParams['font.family'] = 'IPAexGothic'"
   ]
  },
  {
   "cell_type": "markdown",
   "metadata": {},
   "source": [
    "# 7章 ロジスティクスネットワークの最適設計を行う10本ノック\n",
    "\n",
    "ここでは、最適化計算を行ういくつかのライブラリを用いて、最適化計算を実際に行う。  \n",
    "そして、6章で用いたネットワーク可視化などの技術を駆使し、計算結果の妥当性を確認する方法についても学ぶ。"
   ]
  },
  {
   "cell_type": "markdown",
   "metadata": {},
   "source": [
    "- ロジスティクス・ネットワーク（物流ネットワーク）\n",
    "  - 最終的に製品を販売する小売店（商店P, Q）がある\n",
    "  - 小売店で販売される製品群（製品A, B）には、一定の需要がある\n",
    "  - 各需要量に基づいて工場（工場X, Y）での生産量は決められる\n",
    "  - それぞれの製品をどの工場のどのライン（レーン0, 1）で製造するかについては、\n",
    "    - 各工場から小売店への輸送費、製造コストなどを加味して決められる"
   ]
  },
  {
   "cell_type": "markdown",
   "metadata": {},
   "source": [
    "### Knock61: 輸送最適化問題を解く"
   ]
  },
  {
   "cell_type": "code",
   "execution_count": 54,
   "metadata": {},
   "outputs": [
    {
     "data": {
      "text/html": [
       "<div>\n",
       "<style scoped>\n",
       "    .dataframe tbody tr th:only-of-type {\n",
       "        vertical-align: middle;\n",
       "    }\n",
       "\n",
       "    .dataframe tbody tr th {\n",
       "        vertical-align: top;\n",
       "    }\n",
       "\n",
       "    .dataframe thead th {\n",
       "        text-align: right;\n",
       "    }\n",
       "</style>\n",
       "<table border=\"1\" class=\"dataframe\">\n",
       "  <thead>\n",
       "    <tr style=\"text-align: right;\">\n",
       "      <th></th>\n",
       "      <th>F1</th>\n",
       "      <th>F2</th>\n",
       "      <th>F3</th>\n",
       "      <th>F4</th>\n",
       "    </tr>\n",
       "    <tr>\n",
       "      <th>工場</th>\n",
       "      <th></th>\n",
       "      <th></th>\n",
       "      <th></th>\n",
       "      <th></th>\n",
       "    </tr>\n",
       "  </thead>\n",
       "  <tbody>\n",
       "    <tr>\n",
       "      <th>W1</th>\n",
       "      <td>10</td>\n",
       "      <td>10</td>\n",
       "      <td>11</td>\n",
       "      <td>27</td>\n",
       "    </tr>\n",
       "    <tr>\n",
       "      <th>W2</th>\n",
       "      <td>18</td>\n",
       "      <td>21</td>\n",
       "      <td>12</td>\n",
       "      <td>14</td>\n",
       "    </tr>\n",
       "    <tr>\n",
       "      <th>W3</th>\n",
       "      <td>15</td>\n",
       "      <td>12</td>\n",
       "      <td>14</td>\n",
       "      <td>12</td>\n",
       "    </tr>\n",
       "  </tbody>\n",
       "</table>\n",
       "</div>"
      ],
      "text/plain": [
       "    F1  F2  F3  F4\n",
       "工場                \n",
       "W1  10  10  11  27\n",
       "W2  18  21  12  14\n",
       "W3  15  12  14  12"
      ]
     },
     "metadata": {},
     "output_type": "display_data"
    },
    {
     "data": {
      "text/html": [
       "<div>\n",
       "<style scoped>\n",
       "    .dataframe tbody tr th:only-of-type {\n",
       "        vertical-align: middle;\n",
       "    }\n",
       "\n",
       "    .dataframe tbody tr th {\n",
       "        vertical-align: top;\n",
       "    }\n",
       "\n",
       "    .dataframe thead th {\n",
       "        text-align: right;\n",
       "    }\n",
       "</style>\n",
       "<table border=\"1\" class=\"dataframe\">\n",
       "  <thead>\n",
       "    <tr style=\"text-align: right;\">\n",
       "      <th></th>\n",
       "      <th>F1</th>\n",
       "      <th>F2</th>\n",
       "      <th>F3</th>\n",
       "      <th>F4</th>\n",
       "    </tr>\n",
       "  </thead>\n",
       "  <tbody>\n",
       "    <tr>\n",
       "      <th>0</th>\n",
       "      <td>28</td>\n",
       "      <td>29</td>\n",
       "      <td>31</td>\n",
       "      <td>25</td>\n",
       "    </tr>\n",
       "  </tbody>\n",
       "</table>\n",
       "</div>"
      ],
      "text/plain": [
       "   F1  F2  F3  F4\n",
       "0  28  29  31  25"
      ]
     },
     "metadata": {},
     "output_type": "display_data"
    },
    {
     "data": {
      "text/html": [
       "<div>\n",
       "<style scoped>\n",
       "    .dataframe tbody tr th:only-of-type {\n",
       "        vertical-align: middle;\n",
       "    }\n",
       "\n",
       "    .dataframe tbody tr th {\n",
       "        vertical-align: top;\n",
       "    }\n",
       "\n",
       "    .dataframe thead th {\n",
       "        text-align: right;\n",
       "    }\n",
       "</style>\n",
       "<table border=\"1\" class=\"dataframe\">\n",
       "  <thead>\n",
       "    <tr style=\"text-align: right;\">\n",
       "      <th></th>\n",
       "      <th>W1</th>\n",
       "      <th>W2</th>\n",
       "      <th>W3</th>\n",
       "    </tr>\n",
       "  </thead>\n",
       "  <tbody>\n",
       "    <tr>\n",
       "      <th>0</th>\n",
       "      <td>35</td>\n",
       "      <td>41</td>\n",
       "      <td>42</td>\n",
       "    </tr>\n",
       "  </tbody>\n",
       "</table>\n",
       "</div>"
      ],
      "text/plain": [
       "   W1  W2  W3\n",
       "0  35  41  42"
      ]
     },
     "metadata": {},
     "output_type": "display_data"
    }
   ],
   "source": [
    "# データ読み込み\n",
    "\n",
    "df_tc = pd.read_csv(\"../support/7章/trans_cost.csv\", index_col=\"工場\")\n",
    "df_demand = pd.read_csv(\"../support/7章/demand.csv\")\n",
    "df_supply = pd.read_csv(\"../support/7章/supply.csv\")\n",
    "\n",
    "display(df_tc)\n",
    "display(df_demand)\n",
    "display(df_supply)"
   ]
  },
  {
   "cell_type": "code",
   "execution_count": 55,
   "metadata": {},
   "outputs": [
    {
     "name": "stdout",
     "output_type": "stream",
     "text": [
      "range(0, 3)\n",
      "range(0, 4)\n",
      "[(0, 0), (0, 1), (0, 2), (0, 3), (1, 0), (1, 1), (1, 2), (1, 3), (2, 0), (2, 1), (2, 2), (2, 3)]\n"
     ]
    }
   ],
   "source": [
    "# 初期設定\n",
    "\n",
    "np.random.seed(1)\n",
    "nw = len(df_tc.index)\n",
    "nf = len(df_tc.columns)\n",
    "pr = list(product(range(nw), range(nf)))\n",
    "print(range(nw))\n",
    "print(range(nf))\n",
    "print(pr)"
   ]
  },
  {
   "cell_type": "code",
   "execution_count": 56,
   "metadata": {},
   "outputs": [
    {
     "data": {
      "text/plain": [
       "'\\nm1\\nNoName:\\nMINIMIZE\\n10*v0_0 + 10*v0_1 + 11*v0_2 + 27*v0_3 + 18*v1_0 + 21*v1_1 + 12*v1_2 + 14*v1_3 + 15*v2_0 + 12*v2_1 + 14*v2_2 + 12*v2_3 + 0\\nVARIABLES\\nv0_0 Continuous\\nv0_1 Continuous\\nv0_2 Continuous\\nv0_3 Continuous\\nv1_0 Continuous\\nv1_1 Continuous\\nv1_2 Continuous\\nv1_3 Continuous\\nv2_0 Continuous\\nv2_1 Continuous\\nv2_2 Continuous\\nv2_3 Continuous\\n'"
      ]
     },
     "execution_count": 56,
     "metadata": {},
     "output_type": "execute_result"
    }
   ],
   "source": [
    "# 数理モデルの作成\n",
    "\n",
    "# 「最小化を行う」モデルを定義\n",
    "m1 = model_min()\n",
    "\n",
    "# 工場と倉庫の組み合わせの変数\n",
    "v1 = {\n",
    "    (i, j): LpVariable(\"v%d_%d\"%(i, j), lowBound=0) for i, j in pr\n",
    "}\n",
    "\"\"\"\n",
    "v1\n",
    "{\n",
    "    (0, 0): v0_0, (0, 1): v0_1, (0, 2): v0_2, (0, 3): v0_3, \n",
    "    (1, 0): v1_0, (1, 1): v1_1, (1, 2): v1_2, (1, 3): v1_3, \n",
    "    (2, 0): v2_0, (2, 1): v2_1, (2, 2): v2_2, (2, 3): v2_3\n",
    "}\n",
    "\"\"\"\n",
    "\n",
    "# 目的関数の定式化\n",
    "m1 += lpSum(df_tc.iloc[i][j] * v1[i, j] for i, j in pr)\n",
    "\"\"\"\n",
    "m1\n",
    "NoName:\n",
    "MINIMIZE\n",
    "10*v0_0 + 10*v0_1 + 11*v0_2 + 27*v0_3 + 18*v1_0 + 21*v1_1 + 12*v1_2 + 14*v1_3 + 15*v2_0 + 12*v2_1 + 14*v2_2 + 12*v2_3 + 0\n",
    "VARIABLES\n",
    "v0_0 Continuous\n",
    "v0_1 Continuous\n",
    "v0_2 Continuous\n",
    "v0_3 Continuous\n",
    "v1_0 Continuous\n",
    "v1_1 Continuous\n",
    "v1_2 Continuous\n",
    "v1_3 Continuous\n",
    "v2_0 Continuous\n",
    "v2_1 Continuous\n",
    "v2_2 Continuous\n",
    "v2_3 Continuous\n",
    "\"\"\""
   ]
  },
  {
   "cell_type": "code",
   "execution_count": 57,
   "metadata": {},
   "outputs": [],
   "source": [
    "# 工場の制約条件\n",
    "# 工場の製造する製品が需要を満たすようにする\n",
    "for i in range(nw):\n",
    "    m1 += lpSum(v1[i, j] for j in range(nf)) <= df_supply.iloc[0][i]\n",
    "\n",
    "# 倉庫の制約条件\n",
    "# 倉庫の供給する部品が供給限界を超過しないようにする\n",
    "for j in range(nf):\n",
    "    m1 += lpSum(v1[i, j] for i in range(nw)) >= df_demand.iloc[0][j]"
   ]
  },
  {
   "cell_type": "code",
   "execution_count": 58,
   "metadata": {},
   "outputs": [
    {
     "name": "stdout",
     "output_type": "stream",
     "text": [
      "Welcome to the CBC MILP Solver \n",
      "Version: 2.10.3 \n",
      "Build Date: Dec 15 2019 \n",
      "\n",
      "command line - /Users/takeru/Library/CloudStorage/OneDrive-個人用/Learn/Python/python-practical-data-analysis-100knocks/venv/lib/python3.9/site-packages/pulp/apis/../solverdir/cbc/osx/64/cbc /var/folders/cm/w7d5zwgj0h3gp9q0lvvq4yrr0000gn/T/8e54bfa097ec42be9a94a9e011ee3fce-pulp.mps timeMode elapsed branch printingOptions all solution /var/folders/cm/w7d5zwgj0h3gp9q0lvvq4yrr0000gn/T/8e54bfa097ec42be9a94a9e011ee3fce-pulp.sol (default strategy 1)\n",
      "At line 2 NAME          MODEL\n",
      "At line 3 ROWS\n",
      "At line 12 COLUMNS\n",
      "At line 49 RHS\n",
      "At line 57 BOUNDS\n",
      "At line 58 ENDATA\n",
      "Problem MODEL has 7 rows, 12 columns and 24 elements\n",
      "Coin0008I MODEL read with 0 errors\n",
      "Option for timeMode changed from cpu to elapsed\n",
      "Presolve 7 (0) rows, 12 (0) columns and 24 (0) elements\n",
      "0  Obj 0 Primal inf 113 (4)\n",
      "7  Obj 1296\n",
      "Optimal - objective value 1296\n",
      "Optimal objective 1296 - 7 iterations time 0.002\n",
      "Option for printingOptions changed from normal to all\n",
      "Total time (CPU seconds):       0.00   (Wallclock seconds):       0.01\n",
      "\n"
     ]
    },
    {
     "data": {
      "text/plain": [
       "1"
      ]
     },
     "execution_count": 58,
     "metadata": {},
     "output_type": "execute_result"
    }
   ],
   "source": [
    "# 最適化問題をsolveによって解く\n",
    "\n",
    "m1.solve()"
   ]
  },
  {
   "cell_type": "code",
   "execution_count": 59,
   "metadata": {},
   "outputs": [
    {
     "name": "stdout",
     "output_type": "stream",
     "text": [
      "    F1  F2  F3  F4\n",
      "工場                \n",
      "W1  28   7   0   0\n",
      "W2   0   0  31   5\n",
      "W3   0  22   0  20\n",
      "総輸送コスト: 1296.0 万円\n"
     ]
    }
   ],
   "source": [
    "# 総輸送コスト計算\n",
    "\n",
    "df_tr_sol = df_tc.copy()\n",
    "total_cost = 0\n",
    "for k, x in v1.items():\n",
    "    i, j = k[0], k[1]\n",
    "    df_tr_sol.iloc[i][j] = value(x)\n",
    "    total_cost += df_tc.iloc[i][j] * value(x)\n",
    "\n",
    "print(df_tr_sol)\n",
    "print(f\"総輸送コスト: {total_cost} 万円\")"
   ]
  },
  {
   "cell_type": "markdown",
   "metadata": {},
   "source": [
    "### Knock62: 最適輸送ルートをネットワークで確認する"
   ]
  },
  {
   "cell_type": "code",
   "execution_count": 61,
   "metadata": {},
   "outputs": [
    {
     "data": {
      "text/html": [
       "<div>\n",
       "<style scoped>\n",
       "    .dataframe tbody tr th:only-of-type {\n",
       "        vertical-align: middle;\n",
       "    }\n",
       "\n",
       "    .dataframe tbody tr th {\n",
       "        vertical-align: top;\n",
       "    }\n",
       "\n",
       "    .dataframe thead th {\n",
       "        text-align: right;\n",
       "    }\n",
       "</style>\n",
       "<table border=\"1\" class=\"dataframe\">\n",
       "  <thead>\n",
       "    <tr style=\"text-align: right;\">\n",
       "      <th></th>\n",
       "      <th>F1</th>\n",
       "      <th>F2</th>\n",
       "      <th>F3</th>\n",
       "      <th>F4</th>\n",
       "    </tr>\n",
       "    <tr>\n",
       "      <th>工場</th>\n",
       "      <th></th>\n",
       "      <th></th>\n",
       "      <th></th>\n",
       "      <th></th>\n",
       "    </tr>\n",
       "  </thead>\n",
       "  <tbody>\n",
       "    <tr>\n",
       "      <th>W1</th>\n",
       "      <td>28</td>\n",
       "      <td>7</td>\n",
       "      <td>0</td>\n",
       "      <td>0</td>\n",
       "    </tr>\n",
       "    <tr>\n",
       "      <th>W2</th>\n",
       "      <td>0</td>\n",
       "      <td>0</td>\n",
       "      <td>31</td>\n",
       "      <td>5</td>\n",
       "    </tr>\n",
       "    <tr>\n",
       "      <th>W3</th>\n",
       "      <td>0</td>\n",
       "      <td>22</td>\n",
       "      <td>0</td>\n",
       "      <td>20</td>\n",
       "    </tr>\n",
       "  </tbody>\n",
       "</table>\n",
       "</div>"
      ],
      "text/plain": [
       "    F1  F2  F3  F4\n",
       "工場                \n",
       "W1  28   7   0   0\n",
       "W2   0   0  31   5\n",
       "W3   0  22   0  20"
      ]
     },
     "metadata": {},
     "output_type": "display_data"
    },
    {
     "data": {
      "text/html": [
       "<div>\n",
       "<style scoped>\n",
       "    .dataframe tbody tr th:only-of-type {\n",
       "        vertical-align: middle;\n",
       "    }\n",
       "\n",
       "    .dataframe tbody tr th {\n",
       "        vertical-align: top;\n",
       "    }\n",
       "\n",
       "    .dataframe thead th {\n",
       "        text-align: right;\n",
       "    }\n",
       "</style>\n",
       "<table border=\"1\" class=\"dataframe\">\n",
       "  <thead>\n",
       "    <tr style=\"text-align: right;\">\n",
       "      <th></th>\n",
       "      <th>W1</th>\n",
       "      <th>W2</th>\n",
       "      <th>W3</th>\n",
       "      <th>F1</th>\n",
       "      <th>F2</th>\n",
       "      <th>F3</th>\n",
       "      <th>F4</th>\n",
       "    </tr>\n",
       "  </thead>\n",
       "  <tbody>\n",
       "    <tr>\n",
       "      <th>0</th>\n",
       "      <td>0</td>\n",
       "      <td>0</td>\n",
       "      <td>0</td>\n",
       "      <td>4.0000</td>\n",
       "      <td>4.0000</td>\n",
       "      <td>4.0000</td>\n",
       "      <td>4.0000</td>\n",
       "    </tr>\n",
       "    <tr>\n",
       "      <th>1</th>\n",
       "      <td>1</td>\n",
       "      <td>2</td>\n",
       "      <td>3</td>\n",
       "      <td>0.5000</td>\n",
       "      <td>1.5000</td>\n",
       "      <td>2.5000</td>\n",
       "      <td>3.5000</td>\n",
       "    </tr>\n",
       "  </tbody>\n",
       "</table>\n",
       "</div>"
      ],
      "text/plain": [
       "   W1  W2  W3     F1     F2     F3     F4\n",
       "0   0   0   0 4.0000 4.0000 4.0000 4.0000\n",
       "1   1   2   3 0.5000 1.5000 2.5000 3.5000"
      ]
     },
     "metadata": {},
     "output_type": "display_data"
    }
   ],
   "source": [
    "# 最適輸送ルートをネットワーク可視化\n",
    "\n",
    "# データの読み込み\n",
    "df_tr = df_tr_sol.copy()\n",
    "df_pos = pd.read_csv(\"../support/7章/trans_route_pos.csv\")\n",
    "\n",
    "display(df_tr)\n",
    "display(df_pos)"
   ]
  },
  {
   "cell_type": "code",
   "execution_count": 71,
   "metadata": {},
   "outputs": [
    {
     "data": {
      "image/png": "[encoded data removed]",
      "text/plain": [
       "<Figure size 432x288 with 1 Axes>"
      ]
     },
     "metadata": {},
     "output_type": "display_data"
    }
   ],
   "source": [
    "# グラフオブジェクトの作成\n",
    "G = nx.Graph()\n",
    "\n",
    "# 頂点の設定\n",
    "for i in range(len(df_pos.columns)):\n",
    "    G.add_node(df_pos.columns[i])\n",
    "\n",
    "# 辺の設定とエッジの重みのリスト化\n",
    "num_pre = 0\n",
    "edge_weights = []\n",
    "size = 0.1\n",
    "for i in range(len(df_pos.columns)):\n",
    "    for j in range(len(df_pos.columns)):\n",
    "        if not (i == j):\n",
    "            # 辺の追加\n",
    "            G.add_edge(df_pos.columns[i], df_pos.columns[j])\n",
    "            # エッジの重みの追加\n",
    "            if num_pre < len(G.edges):\n",
    "                num_pre = len(G.edges)\n",
    "                weight = 0\n",
    "                if (df_pos.columns[i] in df_tr.columns) and (df_pos.columns[j] in df_tr.index):\n",
    "                    if df_tr[df_pos.columns[i]][df_pos.columns[j]]:\n",
    "                        weight = df_tr[df_pos.columns[i]][df_pos.columns[j]] * size\n",
    "                elif (df_pos.columns[j] in df_tr.columns) and (df_pos.columns[i] in df_tr.index):\n",
    "                    if df_tr[df_pos.columns[j]][df_pos.columns[i]]:\n",
    "                        weight = df_tr[df_pos.columns[j]][df_pos.columns[i]] * size\n",
    "\n",
    "                edge_weights.append(weight)\n",
    "\n",
    "# 座標の設定\n",
    "pos = {}\n",
    "for i in range(len(df_pos.columns)):\n",
    "    node = df_pos.columns[i]\n",
    "    pos[node] = (df_pos[node][0], df_pos[node][1])\n",
    "\n",
    "# 描画\n",
    "nx.draw(\n",
    "    G, pos, with_labels=True,\n",
    "    font_size=16, font_color=\"w\",\n",
    "    node_size=1000, node_color=\"k\",\n",
    "    width=edge_weights\n",
    ")\n",
    "\n",
    "# 表示\n",
    "plt.show()"
   ]
  },
  {
   "cell_type": "code",
   "execution_count": 72,
   "metadata": {},
   "outputs": [
    {
     "name": "stdout",
     "output_type": "stream",
     "text": [
      "[('W1', 'W2'), ('W1', 'W3'), ('W1', 'F1'), ('W1', 'F2'), ('W1', 'F3'), ('W1', 'F4'), ('W2', 'W3'), ('W2', 'F1'), ('W2', 'F2'), ('W2', 'F3'), ('W2', 'F4'), ('W3', 'F1'), ('W3', 'F2'), ('W3', 'F3'), ('W3', 'F4'), ('F1', 'F2'), ('F1', 'F3'), ('F1', 'F4'), ('F2', 'F3'), ('F2', 'F4'), ('F3', 'F4')] 21\n",
      "[0, 0, 2.8000000000000003, 0.7000000000000001, 0, 0, 0, 0, 0, 3.1, 0.5, 0, 2.2, 0, 2.0, 0, 0, 0, 0, 0, 0] 21\n"
     ]
    }
   ],
   "source": [
    "print(G.edges, len(G.edges))\n",
    "print(edge_weights, len(edge_weights))"
   ]
  },
  {
   "cell_type": "markdown",
   "metadata": {},
   "source": [
    "### Knock63: 最適輸送ルートが制約条件内に収まっているか確認する"
   ]
  }
 ],
 "metadata": {
  "kernelspec": {
   "display_name": "Python 3.9.13 ('venv': venv)",
   "language": "python",
   "name": "python3"
  },
  "language_info": {
   "codemirror_mode": {
    "name": "ipython",
    "version": 3
   },
   "file_extension": ".py",
   "mimetype": "text/x-python",
   "name": "python",
   "nbconvert_exporter": "python",
   "pygments_lexer": "ipython3",
   "version": "3.9.13"
  },
  "orig_nbformat": 4,
  "vscode": {
   "interpreter": {
    "hash": "81dbdffa2555d8332052cc5706d1001114a92c16400f745eaf97970677d8084c"
   }
  }
 },
 "nbformat": 4,
 "nbformat_minor": 2
}
