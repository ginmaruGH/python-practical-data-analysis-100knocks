{
 "cells": [
  {
   "cell_type": "code",
   "execution_count": 296,
   "metadata": {},
   "outputs": [],
   "source": [
    "import warnings\n",
    "import numpy as np\n",
    "import pandas as pd\n",
    "import matplotlib.pyplot as plt\n",
    "from IPython.display import display\n",
    "\n",
    "from itertools import product\n",
    "from pulp import LpVariable, lpSum, value\n",
    "from ortoolpy import model_min, model_max, addvars, addvals\n",
    "from ortoolpy import logistics_network\n",
    "import networkx as nx\n",
    "\n",
    "warnings.filterwarnings('ignore')\n",
    "np.set_printoptions(suppress=True, precision=4)\n",
    "pd.options.display.float_format = '{:.4f}'.format\n",
    "pd.set_option(\"display.max_columns\", None)\n",
    "plt.style.use('seaborn')\n",
    "plt.rcParams[\"font.size\"] = 14\n",
    "plt.rcParams['font.family'] = 'IPAexGothic'"
   ]
  },
  {
   "cell_type": "markdown",
   "metadata": {},
   "source": [
    "# 7章 ロジスティクスネットワークの最適設計を行う10本ノック\n",
    "\n",
    "ここでは、最適化計算を行ういくつかのライブラリを用いて、最適化計算を実際に行う。  \n",
    "そして、6章で用いたネットワーク可視化などの技術を駆使し、計算結果の妥当性を確認する方法についても学ぶ。"
   ]
  },
  {
   "cell_type": "markdown",
   "metadata": {},
   "source": [
    "- ロジスティクス・ネットワーク（物流ネットワーク）\n",
    "  - 最終的に製品を販売する小売店（商店P, Q）がある\n",
    "  - 小売店で販売される製品群（製品A, B）には、一定の需要がある\n",
    "  - 各需要量に基づいて工場（工場X, Y）での生産量は決められる\n",
    "  - それぞれの製品をどの工場のどのライン（レーン0, 1）で製造するかについては、\n",
    "    - 各工場から小売店への輸送費、製造コストなどを加味して決められる"
   ]
  },
  {
   "cell_type": "markdown",
   "metadata": {},
   "source": [
    "### Knock61: 輸送最適化問題を解く"
   ]
  },
  {
   "cell_type": "code",
   "execution_count": 297,
   "metadata": {},
   "outputs": [
    {
     "data": {
      "text/html": [
       "<div>\n",
       "<style scoped>\n",
       "    .dataframe tbody tr th:only-of-type {\n",
       "        vertical-align: middle;\n",
       "    }\n",
       "\n",
       "    .dataframe tbody tr th {\n",
       "        vertical-align: top;\n",
       "    }\n",
       "\n",
       "    .dataframe thead th {\n",
       "        text-align: right;\n",
       "    }\n",
       "</style>\n",
       "<table border=\"1\" class=\"dataframe\">\n",
       "  <thead>\n",
       "    <tr style=\"text-align: right;\">\n",
       "      <th></th>\n",
       "      <th>F1</th>\n",
       "      <th>F2</th>\n",
       "      <th>F3</th>\n",
       "      <th>F4</th>\n",
       "    </tr>\n",
       "    <tr>\n",
       "      <th>工場</th>\n",
       "      <th></th>\n",
       "      <th></th>\n",
       "      <th></th>\n",
       "      <th></th>\n",
       "    </tr>\n",
       "  </thead>\n",
       "  <tbody>\n",
       "    <tr>\n",
       "      <th>W1</th>\n",
       "      <td>10</td>\n",
       "      <td>10</td>\n",
       "      <td>11</td>\n",
       "      <td>27</td>\n",
       "    </tr>\n",
       "    <tr>\n",
       "      <th>W2</th>\n",
       "      <td>18</td>\n",
       "      <td>21</td>\n",
       "      <td>12</td>\n",
       "      <td>14</td>\n",
       "    </tr>\n",
       "    <tr>\n",
       "      <th>W3</th>\n",
       "      <td>15</td>\n",
       "      <td>12</td>\n",
       "      <td>14</td>\n",
       "      <td>12</td>\n",
       "    </tr>\n",
       "  </tbody>\n",
       "</table>\n",
       "</div>"
      ],
      "text/plain": [
       "    F1  F2  F3  F4\n",
       "工場                \n",
       "W1  10  10  11  27\n",
       "W2  18  21  12  14\n",
       "W3  15  12  14  12"
      ]
     },
     "metadata": {},
     "output_type": "display_data"
    },
    {
     "data": {
      "text/html": [
       "<div>\n",
       "<style scoped>\n",
       "    .dataframe tbody tr th:only-of-type {\n",
       "        vertical-align: middle;\n",
       "    }\n",
       "\n",
       "    .dataframe tbody tr th {\n",
       "        vertical-align: top;\n",
       "    }\n",
       "\n",
       "    .dataframe thead th {\n",
       "        text-align: right;\n",
       "    }\n",
       "</style>\n",
       "<table border=\"1\" class=\"dataframe\">\n",
       "  <thead>\n",
       "    <tr style=\"text-align: right;\">\n",
       "      <th></th>\n",
       "      <th>F1</th>\n",
       "      <th>F2</th>\n",
       "      <th>F3</th>\n",
       "      <th>F4</th>\n",
       "    </tr>\n",
       "  </thead>\n",
       "  <tbody>\n",
       "    <tr>\n",
       "      <th>0</th>\n",
       "      <td>28</td>\n",
       "      <td>29</td>\n",
       "      <td>31</td>\n",
       "      <td>25</td>\n",
       "    </tr>\n",
       "  </tbody>\n",
       "</table>\n",
       "</div>"
      ],
      "text/plain": [
       "   F1  F2  F3  F4\n",
       "0  28  29  31  25"
      ]
     },
     "metadata": {},
     "output_type": "display_data"
    },
    {
     "data": {
      "text/html": [
       "<div>\n",
       "<style scoped>\n",
       "    .dataframe tbody tr th:only-of-type {\n",
       "        vertical-align: middle;\n",
       "    }\n",
       "\n",
       "    .dataframe tbody tr th {\n",
       "        vertical-align: top;\n",
       "    }\n",
       "\n",
       "    .dataframe thead th {\n",
       "        text-align: right;\n",
       "    }\n",
       "</style>\n",
       "<table border=\"1\" class=\"dataframe\">\n",
       "  <thead>\n",
       "    <tr style=\"text-align: right;\">\n",
       "      <th></th>\n",
       "      <th>W1</th>\n",
       "      <th>W2</th>\n",
       "      <th>W3</th>\n",
       "    </tr>\n",
       "  </thead>\n",
       "  <tbody>\n",
       "    <tr>\n",
       "      <th>0</th>\n",
       "      <td>35</td>\n",
       "      <td>41</td>\n",
       "      <td>42</td>\n",
       "    </tr>\n",
       "  </tbody>\n",
       "</table>\n",
       "</div>"
      ],
      "text/plain": [
       "   W1  W2  W3\n",
       "0  35  41  42"
      ]
     },
     "metadata": {},
     "output_type": "display_data"
    }
   ],
   "source": [
    "# データ読み込み\n",
    "\n",
    "df_tc = pd.read_csv(\"../support/7章/trans_cost.csv\", index_col=\"工場\")\n",
    "df_demand = pd.read_csv(\"../support/7章/demand.csv\")\n",
    "df_supply = pd.read_csv(\"../support/7章/supply.csv\")\n",
    "\n",
    "display(df_tc)\n",
    "display(df_demand)\n",
    "display(df_supply)"
   ]
  },
  {
   "cell_type": "code",
   "execution_count": 298,
   "metadata": {},
   "outputs": [
    {
     "name": "stdout",
     "output_type": "stream",
     "text": [
      "range(0, 3)\n",
      "range(0, 4)\n",
      "[(0, 0), (0, 1), (0, 2), (0, 3), (1, 0), (1, 1), (1, 2), (1, 3), (2, 0), (2, 1), (2, 2), (2, 3)]\n"
     ]
    }
   ],
   "source": [
    "# 初期設定\n",
    "\n",
    "np.random.seed(1)\n",
    "nw = len(df_tc.index)\n",
    "nf = len(df_tc.columns)\n",
    "pr = list(product(range(nw), range(nf)))\n",
    "print(range(nw))\n",
    "print(range(nf))\n",
    "print(pr)"
   ]
  },
  {
   "cell_type": "code",
   "execution_count": 299,
   "metadata": {},
   "outputs": [
    {
     "data": {
      "text/plain": [
       "'\\nm1\\nNoName:\\nMINIMIZE\\n10*v0_0 + 10*v0_1 + 11*v0_2 + 27*v0_3 + 18*v1_0 + 21*v1_1 + 12*v1_2 + 14*v1_3 + 15*v2_0 + 12*v2_1 + 14*v2_2 + 12*v2_3 + 0\\nVARIABLES\\nv0_0 Continuous\\nv0_1 Continuous\\nv0_2 Continuous\\nv0_3 Continuous\\nv1_0 Continuous\\nv1_1 Continuous\\nv1_2 Continuous\\nv1_3 Continuous\\nv2_0 Continuous\\nv2_1 Continuous\\nv2_2 Continuous\\nv2_3 Continuous\\n'"
      ]
     },
     "execution_count": 299,
     "metadata": {},
     "output_type": "execute_result"
    }
   ],
   "source": [
    "# 数理モデルの作成\n",
    "\n",
    "# 「最小化を行う」モデルを定義\n",
    "m1 = model_min()\n",
    "\n",
    "# 工場と倉庫の組み合わせの変数\n",
    "v1 = {\n",
    "    (i, j): LpVariable(\"v%d_%d\"%(i, j), lowBound=0) for i, j in pr\n",
    "}\n",
    "\"\"\"\n",
    "v1\n",
    "{\n",
    "    (0, 0): v0_0, (0, 1): v0_1, (0, 2): v0_2, (0, 3): v0_3, \n",
    "    (1, 0): v1_0, (1, 1): v1_1, (1, 2): v1_2, (1, 3): v1_3, \n",
    "    (2, 0): v2_0, (2, 1): v2_1, (2, 2): v2_2, (2, 3): v2_3\n",
    "}\n",
    "\"\"\"\n",
    "\n",
    "# 目的関数の定式化\n",
    "m1 += lpSum(df_tc.iloc[i][j] * v1[i, j] for i, j in pr)\n",
    "\"\"\"\n",
    "m1\n",
    "NoName:\n",
    "MINIMIZE\n",
    "10*v0_0 + 10*v0_1 + 11*v0_2 + 27*v0_3 + 18*v1_0 + 21*v1_1 + 12*v1_2 + 14*v1_3 + 15*v2_0 + 12*v2_1 + 14*v2_2 + 12*v2_3 + 0\n",
    "VARIABLES\n",
    "v0_0 Continuous\n",
    "v0_1 Continuous\n",
    "v0_2 Continuous\n",
    "v0_3 Continuous\n",
    "v1_0 Continuous\n",
    "v1_1 Continuous\n",
    "v1_2 Continuous\n",
    "v1_3 Continuous\n",
    "v2_0 Continuous\n",
    "v2_1 Continuous\n",
    "v2_2 Continuous\n",
    "v2_3 Continuous\n",
    "\"\"\""
   ]
  },
  {
   "cell_type": "code",
   "execution_count": 300,
   "metadata": {},
   "outputs": [],
   "source": [
    "# 工場の制約条件\n",
    "# 工場の製造する製品が需要を満たすようにする\n",
    "for i in range(nw):\n",
    "    m1 += lpSum(v1[i, j] for j in range(nf)) <= df_supply.iloc[0][i]\n",
    "\n",
    "# 倉庫の制約条件\n",
    "# 倉庫の供給する部品が供給限界を超過しないようにする\n",
    "for j in range(nf):\n",
    "    m1 += lpSum(v1[i, j] for i in range(nw)) >= df_demand.iloc[0][j]"
   ]
  },
  {
   "cell_type": "code",
   "execution_count": 301,
   "metadata": {},
   "outputs": [
    {
     "name": "stdout",
     "output_type": "stream",
     "text": [
      "Welcome to the CBC MILP Solver \n",
      "Version: 2.10.3 \n",
      "Build Date: Dec 15 2019 \n",
      "\n",
      "command line - /Users/takeru/Library/CloudStorage/OneDrive-個人用/Learn/Python/python-practical-data-analysis-100knocks/venv/lib/python3.9/site-packages/pulp/apis/../solverdir/cbc/osx/64/cbc /var/folders/cm/w7d5zwgj0h3gp9q0lvvq4yrr0000gn/T/831268cfed07478fb618af387e4b9b30-pulp.mps timeMode elapsed branch printingOptions all solution /var/folders/cm/w7d5zwgj0h3gp9q0lvvq4yrr0000gn/T/831268cfed07478fb618af387e4b9b30-pulp.sol (default strategy 1)\n",
      "At line 2 NAME          MODEL\n",
      "At line 3 ROWS\n",
      "At line 12 COLUMNS\n",
      "At line 49 RHS\n",
      "At line 57 BOUNDS\n",
      "At line 58 ENDATA\n",
      "Problem MODEL has 7 rows, 12 columns and 24 elements\n",
      "Coin0008I MODEL read with 0 errors\n",
      "Option for timeMode changed from cpu to elapsed\n",
      "Presolve 7 (0) rows, 12 (0) columns and 24 (0) elements\n",
      "0  Obj 0 Primal inf 113 (4)\n",
      "7  Obj 1296\n",
      "Optimal - objective value 1296\n",
      "Optimal objective 1296 - 7 iterations time 0.002\n",
      "Option for printingOptions changed from normal to all\n",
      "Total time (CPU seconds):       0.00   (Wallclock seconds):       0.00\n",
      "\n"
     ]
    },
    {
     "data": {
      "text/plain": [
       "1"
      ]
     },
     "execution_count": 301,
     "metadata": {},
     "output_type": "execute_result"
    }
   ],
   "source": [
    "# 最適化問題をsolveによって解く\n",
    "\n",
    "m1.solve()"
   ]
  },
  {
   "cell_type": "code",
   "execution_count": 302,
   "metadata": {},
   "outputs": [
    {
     "name": "stdout",
     "output_type": "stream",
     "text": [
      "    F1  F2  F3  F4\n",
      "工場                \n",
      "W1  28   7   0   0\n",
      "W2   0   0  31   5\n",
      "W3   0  22   0  20\n",
      "総輸送コスト: 1296.0 万円\n"
     ]
    }
   ],
   "source": [
    "# 総輸送コスト計算\n",
    "\n",
    "df_tr_sol = df_tc.copy()\n",
    "total_cost = 0\n",
    "for k, x in v1.items():\n",
    "    i, j = k[0], k[1]\n",
    "    df_tr_sol.iloc[i][j] = value(x)\n",
    "    total_cost += df_tc.iloc[i][j] * value(x)\n",
    "\n",
    "print(df_tr_sol)\n",
    "print(f\"総輸送コスト: {total_cost} 万円\")"
   ]
  },
  {
   "cell_type": "markdown",
   "metadata": {},
   "source": [
    "### Knock62: 最適輸送ルートをネットワークで確認する"
   ]
  },
  {
   "cell_type": "code",
   "execution_count": 303,
   "metadata": {},
   "outputs": [
    {
     "data": {
      "text/html": [
       "<div>\n",
       "<style scoped>\n",
       "    .dataframe tbody tr th:only-of-type {\n",
       "        vertical-align: middle;\n",
       "    }\n",
       "\n",
       "    .dataframe tbody tr th {\n",
       "        vertical-align: top;\n",
       "    }\n",
       "\n",
       "    .dataframe thead th {\n",
       "        text-align: right;\n",
       "    }\n",
       "</style>\n",
       "<table border=\"1\" class=\"dataframe\">\n",
       "  <thead>\n",
       "    <tr style=\"text-align: right;\">\n",
       "      <th></th>\n",
       "      <th>F1</th>\n",
       "      <th>F2</th>\n",
       "      <th>F3</th>\n",
       "      <th>F4</th>\n",
       "    </tr>\n",
       "    <tr>\n",
       "      <th>工場</th>\n",
       "      <th></th>\n",
       "      <th></th>\n",
       "      <th></th>\n",
       "      <th></th>\n",
       "    </tr>\n",
       "  </thead>\n",
       "  <tbody>\n",
       "    <tr>\n",
       "      <th>W1</th>\n",
       "      <td>28</td>\n",
       "      <td>7</td>\n",
       "      <td>0</td>\n",
       "      <td>0</td>\n",
       "    </tr>\n",
       "    <tr>\n",
       "      <th>W2</th>\n",
       "      <td>0</td>\n",
       "      <td>0</td>\n",
       "      <td>31</td>\n",
       "      <td>5</td>\n",
       "    </tr>\n",
       "    <tr>\n",
       "      <th>W3</th>\n",
       "      <td>0</td>\n",
       "      <td>22</td>\n",
       "      <td>0</td>\n",
       "      <td>20</td>\n",
       "    </tr>\n",
       "  </tbody>\n",
       "</table>\n",
       "</div>"
      ],
      "text/plain": [
       "    F1  F2  F3  F4\n",
       "工場                \n",
       "W1  28   7   0   0\n",
       "W2   0   0  31   5\n",
       "W3   0  22   0  20"
      ]
     },
     "metadata": {},
     "output_type": "display_data"
    },
    {
     "data": {
      "text/html": [
       "<div>\n",
       "<style scoped>\n",
       "    .dataframe tbody tr th:only-of-type {\n",
       "        vertical-align: middle;\n",
       "    }\n",
       "\n",
       "    .dataframe tbody tr th {\n",
       "        vertical-align: top;\n",
       "    }\n",
       "\n",
       "    .dataframe thead th {\n",
       "        text-align: right;\n",
       "    }\n",
       "</style>\n",
       "<table border=\"1\" class=\"dataframe\">\n",
       "  <thead>\n",
       "    <tr style=\"text-align: right;\">\n",
       "      <th></th>\n",
       "      <th>W1</th>\n",
       "      <th>W2</th>\n",
       "      <th>W3</th>\n",
       "      <th>F1</th>\n",
       "      <th>F2</th>\n",
       "      <th>F3</th>\n",
       "      <th>F4</th>\n",
       "    </tr>\n",
       "  </thead>\n",
       "  <tbody>\n",
       "    <tr>\n",
       "      <th>0</th>\n",
       "      <td>0</td>\n",
       "      <td>0</td>\n",
       "      <td>0</td>\n",
       "      <td>4.0000</td>\n",
       "      <td>4.0000</td>\n",
       "      <td>4.0000</td>\n",
       "      <td>4.0000</td>\n",
       "    </tr>\n",
       "    <tr>\n",
       "      <th>1</th>\n",
       "      <td>1</td>\n",
       "      <td>2</td>\n",
       "      <td>3</td>\n",
       "      <td>0.5000</td>\n",
       "      <td>1.5000</td>\n",
       "      <td>2.5000</td>\n",
       "      <td>3.5000</td>\n",
       "    </tr>\n",
       "  </tbody>\n",
       "</table>\n",
       "</div>"
      ],
      "text/plain": [
       "   W1  W2  W3     F1     F2     F3     F4\n",
       "0   0   0   0 4.0000 4.0000 4.0000 4.0000\n",
       "1   1   2   3 0.5000 1.5000 2.5000 3.5000"
      ]
     },
     "metadata": {},
     "output_type": "display_data"
    }
   ],
   "source": [
    "# 最適輸送ルートをネットワーク可視化\n",
    "\n",
    "# データの読み込み\n",
    "df_tr = df_tr_sol.copy()\n",
    "df_pos = pd.read_csv(\"../support/7章/trans_route_pos.csv\")\n",
    "\n",
    "display(df_tr)\n",
    "display(df_pos)"
   ]
  },
  {
   "cell_type": "code",
   "execution_count": 304,
   "metadata": {},
   "outputs": [
    {
     "data": {
      "image/png": "[encoded data removed]",
      "text/plain": [
       "<Figure size 576x396 with 1 Axes>"
      ]
     },
     "metadata": {},
     "output_type": "display_data"
    }
   ],
   "source": [
    "# グラフオブジェクトの作成\n",
    "G = nx.Graph()\n",
    "\n",
    "# 頂点の設定\n",
    "for i in range(len(df_pos.columns)):\n",
    "    G.add_node(df_pos.columns[i])\n",
    "\n",
    "# 辺の設定とエッジの重みのリスト化\n",
    "num_pre = 0\n",
    "edge_weights = []\n",
    "size = 0.1\n",
    "for i in range(len(df_pos.columns)):\n",
    "    for j in range(len(df_pos.columns)):\n",
    "        if not (i == j):\n",
    "            # 辺の追加\n",
    "            G.add_edge(df_pos.columns[i], df_pos.columns[j])\n",
    "            # エッジの重みの追加\n",
    "            if num_pre < len(G.edges):\n",
    "                num_pre = len(G.edges)\n",
    "                weight = 0\n",
    "                if (df_pos.columns[i] in df_tr.columns) and (df_pos.columns[j] in df_tr.index):\n",
    "                    if df_tr[df_pos.columns[i]][df_pos.columns[j]]:\n",
    "                        weight = df_tr[df_pos.columns[i]][df_pos.columns[j]] * size\n",
    "                elif (df_pos.columns[j] in df_tr.columns) and (df_pos.columns[i] in df_tr.index):\n",
    "                    if df_tr[df_pos.columns[j]][df_pos.columns[i]]:\n",
    "                        weight = df_tr[df_pos.columns[j]][df_pos.columns[i]] * size\n",
    "\n",
    "                edge_weights.append(weight)\n",
    "\n",
    "# 座標の設定\n",
    "pos = {}\n",
    "for i in range(len(df_pos.columns)):\n",
    "    node = df_pos.columns[i]\n",
    "    pos[node] = (df_pos[node][0], df_pos[node][1])\n",
    "\n",
    "# 描画\n",
    "nx.draw(\n",
    "    G, pos, with_labels=True,\n",
    "    font_size=16, font_color=\"w\",\n",
    "    node_size=1000, node_color=\"k\",\n",
    "    width=edge_weights\n",
    ")\n",
    "\n",
    "# 表示\n",
    "plt.show()"
   ]
  },
  {
   "cell_type": "code",
   "execution_count": 305,
   "metadata": {},
   "outputs": [
    {
     "name": "stdout",
     "output_type": "stream",
     "text": [
      "[('W1', 'W2'), ('W1', 'W3'), ('W1', 'F1'), ('W1', 'F2'), ('W1', 'F3'), ('W1', 'F4'), ('W2', 'W3'), ('W2', 'F1'), ('W2', 'F2'), ('W2', 'F3'), ('W2', 'F4'), ('W3', 'F1'), ('W3', 'F2'), ('W3', 'F3'), ('W3', 'F4'), ('F1', 'F2'), ('F1', 'F3'), ('F1', 'F4'), ('F2', 'F3'), ('F2', 'F4'), ('F3', 'F4')] 21\n",
      "[0, 0, 2.8000000000000003, 0.7000000000000001, 0, 0, 0, 0, 0, 3.1, 0.5, 0, 2.2, 0, 2.0, 0, 0, 0, 0, 0, 0] 21\n"
     ]
    }
   ],
   "source": [
    "print(G.edges, len(G.edges))\n",
    "print(edge_weights, len(edge_weights))"
   ]
  },
  {
   "cell_type": "markdown",
   "metadata": {},
   "source": [
    "### Knock63: 最適輸送ルートが制約条件内に収まっているか確認する"
   ]
  },
  {
   "cell_type": "code",
   "execution_count": 306,
   "metadata": {},
   "outputs": [
    {
     "data": {
      "text/html": [
       "<div>\n",
       "<style scoped>\n",
       "    .dataframe tbody tr th:only-of-type {\n",
       "        vertical-align: middle;\n",
       "    }\n",
       "\n",
       "    .dataframe tbody tr th {\n",
       "        vertical-align: top;\n",
       "    }\n",
       "\n",
       "    .dataframe thead th {\n",
       "        text-align: right;\n",
       "    }\n",
       "</style>\n",
       "<table border=\"1\" class=\"dataframe\">\n",
       "  <thead>\n",
       "    <tr style=\"text-align: right;\">\n",
       "      <th></th>\n",
       "      <th>F1</th>\n",
       "      <th>F2</th>\n",
       "      <th>F3</th>\n",
       "      <th>F4</th>\n",
       "    </tr>\n",
       "  </thead>\n",
       "  <tbody>\n",
       "    <tr>\n",
       "      <th>0</th>\n",
       "      <td>28</td>\n",
       "      <td>29</td>\n",
       "      <td>31</td>\n",
       "      <td>25</td>\n",
       "    </tr>\n",
       "  </tbody>\n",
       "</table>\n",
       "</div>"
      ],
      "text/plain": [
       "   F1  F2  F3  F4\n",
       "0  28  29  31  25"
      ]
     },
     "metadata": {},
     "output_type": "display_data"
    },
    {
     "data": {
      "text/html": [
       "<div>\n",
       "<style scoped>\n",
       "    .dataframe tbody tr th:only-of-type {\n",
       "        vertical-align: middle;\n",
       "    }\n",
       "\n",
       "    .dataframe tbody tr th {\n",
       "        vertical-align: top;\n",
       "    }\n",
       "\n",
       "    .dataframe thead th {\n",
       "        text-align: right;\n",
       "    }\n",
       "</style>\n",
       "<table border=\"1\" class=\"dataframe\">\n",
       "  <thead>\n",
       "    <tr style=\"text-align: right;\">\n",
       "      <th></th>\n",
       "      <th>W1</th>\n",
       "      <th>W2</th>\n",
       "      <th>W3</th>\n",
       "    </tr>\n",
       "  </thead>\n",
       "  <tbody>\n",
       "    <tr>\n",
       "      <th>0</th>\n",
       "      <td>35</td>\n",
       "      <td>41</td>\n",
       "      <td>42</td>\n",
       "    </tr>\n",
       "  </tbody>\n",
       "</table>\n",
       "</div>"
      ],
      "text/plain": [
       "   W1  W2  W3\n",
       "0  35  41  42"
      ]
     },
     "metadata": {},
     "output_type": "display_data"
    }
   ],
   "source": [
    "# データの読み込み\n",
    "\n",
    "# 需要量\n",
    "df_demand = pd.read_csv(\"../support/7章/demand.csv\")\n",
    "# 供給限界\n",
    "df_supply = pd.read_csv(\"../support/7章/supply.csv\")\n",
    "\n",
    "display(df_demand)\n",
    "display(df_supply)"
   ]
  },
  {
   "cell_type": "code",
   "execution_count": 307,
   "metadata": {},
   "outputs": [],
   "source": [
    "# 制約条件計算関数\n",
    "\n",
    "# 需要側（工場）\n",
    "def condition_demand(df_tr: pd.DataFrame, df_demand: pd.DataFrame):\n",
    "    \"\"\"要求されている需要量を満たしているかを確認する\"\"\"\n",
    "    flag = np.zeros(len(df_demand.columns))\n",
    "    for i in range(len(df_demand.columns)):\n",
    "        temp_sum = sum(df_tr[df_demand.columns[i]])\n",
    "        if (temp_sum >= df_demand.iloc[0][i]):\n",
    "            flag[i] = 1\n",
    "\n",
    "    return flag\n",
    "\n",
    "# 供給側（倉庫）\n",
    "def condition_supply(df_tr: pd.DataFrame, df_supply: pd.DataFrame):\n",
    "    \"\"\"供給限界量超えていないかを確認する\"\"\"\n",
    "    flag = np.zeros(len(df_supply.columns))\n",
    "    for i in range(len(df_supply.columns)):\n",
    "        temp_sum = sum(df_tr.loc[df_supply.columns[i]])\n",
    "        if (temp_sum <= df_supply.iloc[0][i]):\n",
    "            flag[i] = 1\n",
    "\n",
    "    return flag"
   ]
  },
  {
   "cell_type": "code",
   "execution_count": 308,
   "metadata": {},
   "outputs": [
    {
     "name": "stdout",
     "output_type": "stream",
     "text": [
      "需要条件計算結果: [1. 1. 1. 1.]\n",
      "供給条件計算結果: [1. 1. 1.]\n"
     ]
    }
   ],
   "source": [
    "# 新しい輸送ルートが制約条件を満たしているかの確認\n",
    "\n",
    "print(f\"需要条件計算結果: {condition_demand(df_tr_sol, df_demand)}\")\n",
    "print(f\"供給条件計算結果: {condition_supply(df_tr_sol, df_supply)}\")"
   ]
  },
  {
   "cell_type": "markdown",
   "metadata": {},
   "source": [
    "### Knock64: 生産計画に関するデータを読み込む\n",
    "\n",
    "- 生産計画データ一覧\n",
    "  - product_plan_material.csv（製品の製造に必要な原料の割合）\n",
    "  - product_plan_profit.csv（製品の利益）\n",
    "  - product_plan_stock.csv（原料の在庫）\n",
    "  - product_plan.csv（製品の生産量）"
   ]
  },
  {
   "cell_type": "code",
   "execution_count": 309,
   "metadata": {},
   "outputs": [
    {
     "name": "stdout",
     "output_type": "stream",
     "text": [
      "製品の製造に必要な原料の割合（material）\n"
     ]
    },
    {
     "data": {
      "text/html": [
       "<div>\n",
       "<style scoped>\n",
       "    .dataframe tbody tr th:only-of-type {\n",
       "        vertical-align: middle;\n",
       "    }\n",
       "\n",
       "    .dataframe tbody tr th {\n",
       "        vertical-align: top;\n",
       "    }\n",
       "\n",
       "    .dataframe thead th {\n",
       "        text-align: right;\n",
       "    }\n",
       "</style>\n",
       "<table border=\"1\" class=\"dataframe\">\n",
       "  <thead>\n",
       "    <tr style=\"text-align: right;\">\n",
       "      <th></th>\n",
       "      <th>原料1</th>\n",
       "      <th>原料2</th>\n",
       "      <th>原料3</th>\n",
       "    </tr>\n",
       "    <tr>\n",
       "      <th>製品</th>\n",
       "      <th></th>\n",
       "      <th></th>\n",
       "      <th></th>\n",
       "    </tr>\n",
       "  </thead>\n",
       "  <tbody>\n",
       "    <tr>\n",
       "      <th>製品1</th>\n",
       "      <td>1</td>\n",
       "      <td>4</td>\n",
       "      <td>3</td>\n",
       "    </tr>\n",
       "    <tr>\n",
       "      <th>製品2</th>\n",
       "      <td>2</td>\n",
       "      <td>4</td>\n",
       "      <td>1</td>\n",
       "    </tr>\n",
       "  </tbody>\n",
       "</table>\n",
       "</div>"
      ],
      "text/plain": [
       "     原料1  原料2  原料3\n",
       "製品                \n",
       "製品1    1    4    3\n",
       "製品2    2    4    1"
      ]
     },
     "metadata": {},
     "output_type": "display_data"
    },
    {
     "name": "stdout",
     "output_type": "stream",
     "text": [
      "製品の利益（profit）\n"
     ]
    },
    {
     "data": {
      "text/html": [
       "<div>\n",
       "<style scoped>\n",
       "    .dataframe tbody tr th:only-of-type {\n",
       "        vertical-align: middle;\n",
       "    }\n",
       "\n",
       "    .dataframe tbody tr th {\n",
       "        vertical-align: top;\n",
       "    }\n",
       "\n",
       "    .dataframe thead th {\n",
       "        text-align: right;\n",
       "    }\n",
       "</style>\n",
       "<table border=\"1\" class=\"dataframe\">\n",
       "  <thead>\n",
       "    <tr style=\"text-align: right;\">\n",
       "      <th></th>\n",
       "      <th>利益</th>\n",
       "    </tr>\n",
       "    <tr>\n",
       "      <th>製品</th>\n",
       "      <th></th>\n",
       "    </tr>\n",
       "  </thead>\n",
       "  <tbody>\n",
       "    <tr>\n",
       "      <th>製品1</th>\n",
       "      <td>5.0000</td>\n",
       "    </tr>\n",
       "    <tr>\n",
       "      <th>製品2</th>\n",
       "      <td>4.0000</td>\n",
       "    </tr>\n",
       "  </tbody>\n",
       "</table>\n",
       "</div>"
      ],
      "text/plain": [
       "        利益\n",
       "製品        \n",
       "製品1 5.0000\n",
       "製品2 4.0000"
      ]
     },
     "metadata": {},
     "output_type": "display_data"
    },
    {
     "name": "stdout",
     "output_type": "stream",
     "text": [
      "原料の在庫（stock）\n"
     ]
    },
    {
     "data": {
      "text/html": [
       "<div>\n",
       "<style scoped>\n",
       "    .dataframe tbody tr th:only-of-type {\n",
       "        vertical-align: middle;\n",
       "    }\n",
       "\n",
       "    .dataframe tbody tr th {\n",
       "        vertical-align: top;\n",
       "    }\n",
       "\n",
       "    .dataframe thead th {\n",
       "        text-align: right;\n",
       "    }\n",
       "</style>\n",
       "<table border=\"1\" class=\"dataframe\">\n",
       "  <thead>\n",
       "    <tr style=\"text-align: right;\">\n",
       "      <th></th>\n",
       "      <th>原料1</th>\n",
       "      <th>原料2</th>\n",
       "      <th>原料3</th>\n",
       "    </tr>\n",
       "    <tr>\n",
       "      <th>項目</th>\n",
       "      <th></th>\n",
       "      <th></th>\n",
       "      <th></th>\n",
       "    </tr>\n",
       "  </thead>\n",
       "  <tbody>\n",
       "    <tr>\n",
       "      <th>在庫</th>\n",
       "      <td>40</td>\n",
       "      <td>80</td>\n",
       "      <td>50</td>\n",
       "    </tr>\n",
       "  </tbody>\n",
       "</table>\n",
       "</div>"
      ],
      "text/plain": [
       "    原料1  原料2  原料3\n",
       "項目               \n",
       "在庫   40   80   50"
      ]
     },
     "metadata": {},
     "output_type": "display_data"
    },
    {
     "name": "stdout",
     "output_type": "stream",
     "text": [
      "製品の生産量（plan）\n"
     ]
    },
    {
     "data": {
      "text/html": [
       "<div>\n",
       "<style scoped>\n",
       "    .dataframe tbody tr th:only-of-type {\n",
       "        vertical-align: middle;\n",
       "    }\n",
       "\n",
       "    .dataframe tbody tr th {\n",
       "        vertical-align: top;\n",
       "    }\n",
       "\n",
       "    .dataframe thead th {\n",
       "        text-align: right;\n",
       "    }\n",
       "</style>\n",
       "<table border=\"1\" class=\"dataframe\">\n",
       "  <thead>\n",
       "    <tr style=\"text-align: right;\">\n",
       "      <th></th>\n",
       "      <th>生産量</th>\n",
       "    </tr>\n",
       "    <tr>\n",
       "      <th>製品</th>\n",
       "      <th></th>\n",
       "    </tr>\n",
       "  </thead>\n",
       "  <tbody>\n",
       "    <tr>\n",
       "      <th>製品1</th>\n",
       "      <td>16</td>\n",
       "    </tr>\n",
       "    <tr>\n",
       "      <th>製品2</th>\n",
       "      <td>0</td>\n",
       "    </tr>\n",
       "  </tbody>\n",
       "</table>\n",
       "</div>"
      ],
      "text/plain": [
       "      生産量\n",
       "製品       \n",
       "製品1    16\n",
       "製品2     0"
      ]
     },
     "metadata": {},
     "output_type": "display_data"
    }
   ],
   "source": [
    "# 生産計画データの読み込み\n",
    "\n",
    "# 製品の製造に必要な原料の割合\n",
    "df_material = pd.read_csv(\"../support/7章/product_plan_material.csv\", index_col=\"製品\")\n",
    "print(\"製品の製造に必要な原料の割合（material）\")\n",
    "display(df_material)\n",
    "\n",
    "# 製品の利益\n",
    "df_profit = pd.read_csv(\"../support/7章/product_plan_profit.csv\", index_col=\"製品\")\n",
    "print(\"製品の利益（profit）\")\n",
    "display(df_profit)\n",
    "\n",
    "# 原料の在庫\n",
    "df_stock = pd.read_csv(\"../support/7章/product_plan_stock.csv\", index_col=\"項目\")\n",
    "print(\"原料の在庫（stock）\")\n",
    "display(df_stock)\n",
    "\n",
    "# 製品の生産量\n",
    "df_plan = pd.read_csv(\"../support/7章/product_plan.csv\", index_col=\"製品\")\n",
    "print(\"製品の生産量（plan）\")\n",
    "display(df_plan)"
   ]
  },
  {
   "cell_type": "markdown",
   "metadata": {},
   "source": [
    "### Knock65: 利益を計算する関数を作る\n",
    "\n",
    "- 生産計画の最適化（生産最適化）"
   ]
  },
  {
   "cell_type": "code",
   "execution_count": 310,
   "metadata": {},
   "outputs": [],
   "source": [
    "# 利益計算関数\n",
    "\n",
    "def product_plan(df_profit: pd.DataFrame, df_plan: pd.DataFrame):\n",
    "    \"\"\"\n",
    "    利益を計算する関数\n",
    "    各製品の利益と製造量の積の和\n",
    "    \"\"\"\n",
    "    profit = 0\n",
    "    for i in range(len(df_profit.index)):  # \"製品1\", \"製品2\"\n",
    "        for j in range(len(df_plan.columns)):  # \"生産量\"\n",
    "            profit += df_profit.iloc[i][j] * df_plan.iloc[i][j]\n",
    "    return profit"
   ]
  },
  {
   "cell_type": "code",
   "execution_count": 311,
   "metadata": {},
   "outputs": [
    {
     "name": "stdout",
     "output_type": "stream",
     "text": [
      "総利益: 80.0\n"
     ]
    }
   ],
   "source": [
    "# 総利益の計算\n",
    "\n",
    "print(f\"総利益: {product_plan(df_profit, df_plan)}\")"
   ]
  },
  {
   "cell_type": "markdown",
   "metadata": {},
   "source": [
    "### Knock66: 生産最適化問題を解く\n",
    "\n",
    "- 目的関数（利益関数）を最大化することを目的として、最適化計算を行う"
   ]
  },
  {
   "cell_type": "code",
   "execution_count": 312,
   "metadata": {},
   "outputs": [
    {
     "name": "stdout",
     "output_type": "stream",
     "text": [
      "NoName:\n",
      "MAXIMIZE\n",
      "None\n",
      "VARIABLES\n",
      "\n"
     ]
    }
   ],
   "source": [
    "# 目的関数（利益関数）を最大化する最適化計算\n",
    "\n",
    "# 数理モデル（最大化）作成\n",
    "m = model_max()\n",
    "print(m)"
   ]
  },
  {
   "cell_type": "code",
   "execution_count": 313,
   "metadata": {},
   "outputs": [
    {
     "name": "stdout",
     "output_type": "stream",
     "text": [
      "2\n",
      "{0: v0, 1: v1}\n"
     ]
    }
   ],
   "source": [
    "# 製品数と同じ次元数の変数を定義\n",
    "v1 = {\n",
    "    (i): LpVariable(\"v%d\" % (i), lowBound=0) for i in range(len(df_profit))\n",
    "}\n",
    "print(len(v1))\n",
    "print(v1)"
   ]
  },
  {
   "cell_type": "code",
   "execution_count": 314,
   "metadata": {},
   "outputs": [
    {
     "name": "stdout",
     "output_type": "stream",
     "text": [
      "NoName:\n",
      "MAXIMIZE\n",
      "5.0*v0 + 4.0*v1 + 0.0\n",
      "VARIABLES\n",
      "v0 Continuous\n",
      "v1 Continuous\n",
      "\n"
     ]
    }
   ],
   "source": [
    "# 目的変数の定義\n",
    "m += lpSum(df_profit.iloc[i] * v1[i] for i in range(len(df_profit)))\n",
    "print(m)"
   ]
  },
  {
   "cell_type": "code",
   "execution_count": 315,
   "metadata": {},
   "outputs": [
    {
     "name": "stdout",
     "output_type": "stream",
     "text": [
      "NoName:\n",
      "MAXIMIZE\n",
      "5.0*v0 + 4.0*v1 + 0.0\n",
      "SUBJECT TO\n",
      "_C1: v0 + 2 v1 <= 40\n",
      "\n",
      "_C2: 4 v0 + 4 v1 <= 80\n",
      "\n",
      "_C3: 3 v0 + v1 <= 50\n",
      "\n",
      "VARIABLES\n",
      "v0 Continuous\n",
      "v1 Continuous\n",
      "\n"
     ]
    }
   ],
   "source": [
    "# 制約条件の定義\n",
    "for i in range(len(df_material.columns)):\n",
    "    m += lpSum(\n",
    "        df_material.iloc[j, i] * v1[j] for j in range(len(df_profit))\n",
    "    ) <= df_stock.iloc[:, i]\n",
    "    \n",
    "print(m)"
   ]
  },
  {
   "cell_type": "code",
   "execution_count": 316,
   "metadata": {},
   "outputs": [
    {
     "name": "stdout",
     "output_type": "stream",
     "text": [
      "Welcome to the CBC MILP Solver \n",
      "Version: 2.10.3 \n",
      "Build Date: Dec 15 2019 \n",
      "\n",
      "command line - /Users/takeru/Library/CloudStorage/OneDrive-個人用/Learn/Python/python-practical-data-analysis-100knocks/venv/lib/python3.9/site-packages/pulp/apis/../solverdir/cbc/osx/64/cbc /var/folders/cm/w7d5zwgj0h3gp9q0lvvq4yrr0000gn/T/596882bf3f5d4632bf829c37bdce98d6-pulp.mps max timeMode elapsed branch printingOptions all solution /var/folders/cm/w7d5zwgj0h3gp9q0lvvq4yrr0000gn/T/596882bf3f5d4632bf829c37bdce98d6-pulp.sol (default strategy 1)\n",
      "At line 2 NAME          MODEL\n",
      "At line 3 ROWS\n",
      "At line 8 COLUMNS\n",
      "At line 17 RHS\n",
      "At line 21 BOUNDS\n",
      "At line 22 ENDATA\n",
      "Problem MODEL has 3 rows, 2 columns and 6 elements\n",
      "Coin0008I MODEL read with 0 errors\n",
      "Option for timeMode changed from cpu to elapsed\n",
      "Presolve 3 (0) rows, 2 (0) columns and 6 (0) elements\n",
      "0  Obj -0 Dual inf 8.9999998 (2)\n",
      "0  Obj -0 Dual inf 8.9999998 (2)\n",
      "2  Obj 95\n",
      "Optimal - objective value 95\n",
      "Optimal objective 95 - 2 iterations time 0.002\n",
      "Option for printingOptions changed from normal to all\n",
      "Total time (CPU seconds):       0.00   (Wallclock seconds):       0.00\n",
      "\n"
     ]
    },
    {
     "data": {
      "text/plain": [
       "1"
      ]
     },
     "execution_count": 316,
     "metadata": {},
     "output_type": "execute_result"
    }
   ],
   "source": [
    "# solveによる最適化\n",
    "m.solve()"
   ]
  },
  {
   "cell_type": "code",
   "execution_count": 317,
   "metadata": {},
   "outputs": [
    {
     "name": "stdout",
     "output_type": "stream",
     "text": [
      "dict_items([(0, v0), (1, v1)])\n"
     ]
    }
   ],
   "source": [
    "print(v1.items())"
   ]
  },
  {
   "cell_type": "code",
   "execution_count": 318,
   "metadata": {},
   "outputs": [
    {
     "data": {
      "text/html": [
       "<div>\n",
       "<style scoped>\n",
       "    .dataframe tbody tr th:only-of-type {\n",
       "        vertical-align: middle;\n",
       "    }\n",
       "\n",
       "    .dataframe tbody tr th {\n",
       "        vertical-align: top;\n",
       "    }\n",
       "\n",
       "    .dataframe thead th {\n",
       "        text-align: right;\n",
       "    }\n",
       "</style>\n",
       "<table border=\"1\" class=\"dataframe\">\n",
       "  <thead>\n",
       "    <tr style=\"text-align: right;\">\n",
       "      <th></th>\n",
       "      <th>生産量</th>\n",
       "    </tr>\n",
       "    <tr>\n",
       "      <th>製品</th>\n",
       "      <th></th>\n",
       "    </tr>\n",
       "  </thead>\n",
       "  <tbody>\n",
       "    <tr>\n",
       "      <th>製品1</th>\n",
       "      <td>16</td>\n",
       "    </tr>\n",
       "    <tr>\n",
       "      <th>製品2</th>\n",
       "      <td>0</td>\n",
       "    </tr>\n",
       "  </tbody>\n",
       "</table>\n",
       "</div>"
      ],
      "text/plain": [
       "      生産量\n",
       "製品       \n",
       "製品1    16\n",
       "製品2     0"
      ]
     },
     "metadata": {},
     "output_type": "display_data"
    }
   ],
   "source": [
    "df_plan_sol = df_plan.copy()\n",
    "display(df_plan_sol)"
   ]
  },
  {
   "cell_type": "code",
   "execution_count": 319,
   "metadata": {},
   "outputs": [
    {
     "name": "stdout",
     "output_type": "stream",
     "text": [
      "15.0\n",
      "5.0\n"
     ]
    },
    {
     "data": {
      "text/html": [
       "<div>\n",
       "<style scoped>\n",
       "    .dataframe tbody tr th:only-of-type {\n",
       "        vertical-align: middle;\n",
       "    }\n",
       "\n",
       "    .dataframe tbody tr th {\n",
       "        vertical-align: top;\n",
       "    }\n",
       "\n",
       "    .dataframe thead th {\n",
       "        text-align: right;\n",
       "    }\n",
       "</style>\n",
       "<table border=\"1\" class=\"dataframe\">\n",
       "  <thead>\n",
       "    <tr style=\"text-align: right;\">\n",
       "      <th></th>\n",
       "      <th>生産量</th>\n",
       "    </tr>\n",
       "    <tr>\n",
       "      <th>製品</th>\n",
       "      <th></th>\n",
       "    </tr>\n",
       "  </thead>\n",
       "  <tbody>\n",
       "    <tr>\n",
       "      <th>製品1</th>\n",
       "      <td>15</td>\n",
       "    </tr>\n",
       "    <tr>\n",
       "      <th>製品2</th>\n",
       "      <td>5</td>\n",
       "    </tr>\n",
       "  </tbody>\n",
       "</table>\n",
       "</div>"
      ],
      "text/plain": [
       "      生産量\n",
       "製品       \n",
       "製品1    15\n",
       "製品2     5"
      ]
     },
     "metadata": {},
     "output_type": "display_data"
    }
   ],
   "source": [
    "\n",
    "for k, x in v1.items():\n",
    "    print(value(x))\n",
    "    df_plan_sol.iloc[k] = value(x)\n",
    "\n",
    "display(df_plan_sol)"
   ]
  },
  {
   "cell_type": "code",
   "execution_count": 320,
   "metadata": {},
   "outputs": [
    {
     "name": "stdout",
     "output_type": "stream",
     "text": [
      "総利益: 95.0\n"
     ]
    }
   ],
   "source": [
    "print(f\"総利益: {value(m.objective)}\")"
   ]
  },
  {
   "cell_type": "markdown",
   "metadata": {},
   "source": [
    "### Knock67: 最適生産計画が制約条件内に収まっているか確認する"
   ]
  },
  {
   "cell_type": "code",
   "execution_count": 321,
   "metadata": {},
   "outputs": [],
   "source": [
    "# 制約条件計算関数\n",
    "\n",
    "def condition_stock(df_plan: pd.DataFrame, df_material: pd.DataFrame, df_stock: pd.DataFrame):\n",
    "    \"\"\"制約条件に収まっているか確認する\"\"\"\n",
    "    flag = np.zeros(len(df_material.columns))\n",
    "    for i in range(len(df_material.columns)):\n",
    "        temp_sum = 0\n",
    "        for j in range(len(df_material.index)):\n",
    "            # 使用量の計算\n",
    "            temp_sum += df_material.iloc[j][i] * float(df_plan.iloc[j])\n",
    "        # 使用量と在庫の比較\n",
    "        if (temp_sum <= float(df_stock.iloc[0][i])):\n",
    "            flag[i] = 1\n",
    "        print(f\"{df_material.columns[i]} 使用量: {temp_sum}, 在庫: {float(df_stock.iloc[0][i])}\")\n",
    "\n",
    "    return flag"
   ]
  },
  {
   "cell_type": "code",
   "execution_count": 322,
   "metadata": {},
   "outputs": [
    {
     "name": "stdout",
     "output_type": "stream",
     "text": [
      "原料1 使用量: 16.0, 在庫: 40.0\n",
      "原料2 使用量: 64.0, 在庫: 80.0\n",
      "原料3 使用量: 48.0, 在庫: 50.0\n",
      "制約条件計算結果: [1. 1. 1.]\n"
     ]
    }
   ],
   "source": [
    "print(f\"制約条件計算結果: {condition_stock(df_plan, df_material, df_stock)}\")"
   ]
  },
  {
   "cell_type": "markdown",
   "metadata": {},
   "source": [
    "### Knock68: ロジスティクス・ネットワーク設計問題を解く"
   ]
  },
  {
   "cell_type": "code",
   "execution_count": 323,
   "metadata": {},
   "outputs": [
    {
     "data": {
      "text/html": [
       "<div>\n",
       "<style scoped>\n",
       "    .dataframe tbody tr th:only-of-type {\n",
       "        vertical-align: middle;\n",
       "    }\n",
       "\n",
       "    .dataframe tbody tr th {\n",
       "        vertical-align: top;\n",
       "    }\n",
       "\n",
       "    .dataframe thead th {\n",
       "        text-align: right;\n",
       "    }\n",
       "</style>\n",
       "<table border=\"1\" class=\"dataframe\">\n",
       "  <thead>\n",
       "    <tr style=\"text-align: right;\">\n",
       "      <th></th>\n",
       "      <th>需要地</th>\n",
       "      <th>工場</th>\n",
       "      <th>輸送費</th>\n",
       "    </tr>\n",
       "  </thead>\n",
       "  <tbody>\n",
       "    <tr>\n",
       "      <th>0</th>\n",
       "      <td>P</td>\n",
       "      <td>X</td>\n",
       "      <td>1</td>\n",
       "    </tr>\n",
       "    <tr>\n",
       "      <th>1</th>\n",
       "      <td>P</td>\n",
       "      <td>Y</td>\n",
       "      <td>2</td>\n",
       "    </tr>\n",
       "    <tr>\n",
       "      <th>2</th>\n",
       "      <td>Q</td>\n",
       "      <td>X</td>\n",
       "      <td>3</td>\n",
       "    </tr>\n",
       "    <tr>\n",
       "      <th>3</th>\n",
       "      <td>Q</td>\n",
       "      <td>Y</td>\n",
       "      <td>1</td>\n",
       "    </tr>\n",
       "  </tbody>\n",
       "</table>\n",
       "</div>"
      ],
      "text/plain": [
       "  需要地 工場  輸送費\n",
       "0   P  X    1\n",
       "1   P  Y    2\n",
       "2   Q  X    3\n",
       "3   Q  Y    1"
      ]
     },
     "metadata": {},
     "output_type": "display_data"
    },
    {
     "data": {
      "text/html": [
       "<div>\n",
       "<style scoped>\n",
       "    .dataframe tbody tr th:only-of-type {\n",
       "        vertical-align: middle;\n",
       "    }\n",
       "\n",
       "    .dataframe tbody tr th {\n",
       "        vertical-align: top;\n",
       "    }\n",
       "\n",
       "    .dataframe thead th {\n",
       "        text-align: right;\n",
       "    }\n",
       "</style>\n",
       "<table border=\"1\" class=\"dataframe\">\n",
       "  <thead>\n",
       "    <tr style=\"text-align: right;\">\n",
       "      <th></th>\n",
       "      <th>需要地</th>\n",
       "      <th>製品</th>\n",
       "      <th>需要</th>\n",
       "    </tr>\n",
       "  </thead>\n",
       "  <tbody>\n",
       "    <tr>\n",
       "      <th>0</th>\n",
       "      <td>P</td>\n",
       "      <td>A</td>\n",
       "      <td>10</td>\n",
       "    </tr>\n",
       "    <tr>\n",
       "      <th>1</th>\n",
       "      <td>P</td>\n",
       "      <td>B</td>\n",
       "      <td>10</td>\n",
       "    </tr>\n",
       "    <tr>\n",
       "      <th>2</th>\n",
       "      <td>Q</td>\n",
       "      <td>A</td>\n",
       "      <td>20</td>\n",
       "    </tr>\n",
       "    <tr>\n",
       "      <th>3</th>\n",
       "      <td>Q</td>\n",
       "      <td>B</td>\n",
       "      <td>30</td>\n",
       "    </tr>\n",
       "  </tbody>\n",
       "</table>\n",
       "</div>"
      ],
      "text/plain": [
       "  需要地 製品  需要\n",
       "0   P  A  10\n",
       "1   P  B  10\n",
       "2   Q  A  20\n",
       "3   Q  B  30"
      ]
     },
     "metadata": {},
     "output_type": "display_data"
    },
    {
     "data": {
      "text/html": [
       "<div>\n",
       "<style scoped>\n",
       "    .dataframe tbody tr th:only-of-type {\n",
       "        vertical-align: middle;\n",
       "    }\n",
       "\n",
       "    .dataframe tbody tr th {\n",
       "        vertical-align: top;\n",
       "    }\n",
       "\n",
       "    .dataframe thead th {\n",
       "        text-align: right;\n",
       "    }\n",
       "</style>\n",
       "<table border=\"1\" class=\"dataframe\">\n",
       "  <thead>\n",
       "    <tr style=\"text-align: right;\">\n",
       "      <th></th>\n",
       "      <th>工場</th>\n",
       "      <th>レーン</th>\n",
       "      <th>製品</th>\n",
       "      <th>下限</th>\n",
       "      <th>上限</th>\n",
       "      <th>生産費</th>\n",
       "    </tr>\n",
       "  </thead>\n",
       "  <tbody>\n",
       "    <tr>\n",
       "      <th>0</th>\n",
       "      <td>X</td>\n",
       "      <td>0</td>\n",
       "      <td>A</td>\n",
       "      <td>0</td>\n",
       "      <td>inf</td>\n",
       "      <td>1.0000</td>\n",
       "    </tr>\n",
       "    <tr>\n",
       "      <th>3</th>\n",
       "      <td>X</td>\n",
       "      <td>1</td>\n",
       "      <td>B</td>\n",
       "      <td>0</td>\n",
       "      <td>inf</td>\n",
       "      <td>1.0000</td>\n",
       "    </tr>\n",
       "    <tr>\n",
       "      <th>4</th>\n",
       "      <td>Y</td>\n",
       "      <td>0</td>\n",
       "      <td>A</td>\n",
       "      <td>0</td>\n",
       "      <td>10.0000</td>\n",
       "      <td>3.0000</td>\n",
       "    </tr>\n",
       "    <tr>\n",
       "      <th>6</th>\n",
       "      <td>Y</td>\n",
       "      <td>1</td>\n",
       "      <td>A</td>\n",
       "      <td>0</td>\n",
       "      <td>inf</td>\n",
       "      <td>5.0000</td>\n",
       "    </tr>\n",
       "    <tr>\n",
       "      <th>7</th>\n",
       "      <td>Y</td>\n",
       "      <td>1</td>\n",
       "      <td>B</td>\n",
       "      <td>0</td>\n",
       "      <td>inf</td>\n",
       "      <td>3.0000</td>\n",
       "    </tr>\n",
       "  </tbody>\n",
       "</table>\n",
       "</div>"
      ],
      "text/plain": [
       "  工場  レーン 製品  下限      上限    生産費\n",
       "0  X    0  A   0     inf 1.0000\n",
       "3  X    1  B   0     inf 1.0000\n",
       "4  Y    0  A   0 10.0000 3.0000\n",
       "6  Y    1  A   0     inf 5.0000\n",
       "7  Y    1  B   0     inf 3.0000"
      ]
     },
     "metadata": {},
     "output_type": "display_data"
    }
   ],
   "source": [
    "# ロジスティクス・ネットワーク\n",
    "\n",
    "# 各拠点\n",
    "products = list('AB')\n",
    "stores = list('PQ')\n",
    "factories = list('XY')\n",
    "lanes = (2, 2)\n",
    "\n",
    "# 輸送費\n",
    "shipping_cost_table = pd.DataFrame(\n",
    "    ((j, k) for j in stores for k in factories),\n",
    "    columns=[\"需要地\", \"工場\"]\n",
    ")\n",
    "shipping_cost_table[\"輸送費\"] = [1, 2, 3, 1]\n",
    "display(shipping_cost_table)\n",
    "\n",
    "# 需要\n",
    "demand_table = pd.DataFrame(\n",
    "    ((j, i) for j in stores for i in products),\n",
    "    columns=[\"需要地\", \"製品\"]\n",
    ")\n",
    "demand_table[\"需要\"] = [10, 10, 20, 30]\n",
    "display(demand_table)\n",
    "\n",
    "# 生産\n",
    "production_table = pd.DataFrame(\n",
    "    ((k, l, i, 0, np.inf) for k, nl in zip (factories, lanes) for l in range(nl) for i in products),\n",
    "    columns=[\"工場\", \"レーン\", \"製品\", \"下限\", \"上限\"]\n",
    ")\n",
    "production_table[\"生産費\"] = [1, np.nan, np.nan, 1, 3, np.nan, 5, 3]\n",
    "production_table.dropna(inplace=True)\n",
    "production_table.loc[4, \"上限\"] = 10\n",
    "display(production_table)"
   ]
  },
  {
   "cell_type": "code",
   "execution_count": 324,
   "metadata": {},
   "outputs": [
    {
     "data": {
      "text/html": [
       "<div>\n",
       "<style scoped>\n",
       "    .dataframe tbody tr th:only-of-type {\n",
       "        vertical-align: middle;\n",
       "    }\n",
       "\n",
       "    .dataframe tbody tr th {\n",
       "        vertical-align: top;\n",
       "    }\n",
       "\n",
       "    .dataframe thead th {\n",
       "        text-align: right;\n",
       "    }\n",
       "</style>\n",
       "<table border=\"1\" class=\"dataframe\">\n",
       "  <thead>\n",
       "    <tr style=\"text-align: right;\">\n",
       "      <th></th>\n",
       "      <th>工場</th>\n",
       "      <th>レーン</th>\n",
       "      <th>製品</th>\n",
       "      <th>下限</th>\n",
       "      <th>上限</th>\n",
       "      <th>生産費</th>\n",
       "      <th>VarY</th>\n",
       "      <th>ValY</th>\n",
       "    </tr>\n",
       "  </thead>\n",
       "  <tbody>\n",
       "    <tr>\n",
       "      <th>0</th>\n",
       "      <td>X</td>\n",
       "      <td>0</td>\n",
       "      <td>A</td>\n",
       "      <td>0</td>\n",
       "      <td>inf</td>\n",
       "      <td>1.0000</td>\n",
       "      <td>v000087</td>\n",
       "      <td>20.0000</td>\n",
       "    </tr>\n",
       "    <tr>\n",
       "      <th>3</th>\n",
       "      <td>X</td>\n",
       "      <td>1</td>\n",
       "      <td>B</td>\n",
       "      <td>0</td>\n",
       "      <td>inf</td>\n",
       "      <td>1.0000</td>\n",
       "      <td>v000088</td>\n",
       "      <td>10.0000</td>\n",
       "    </tr>\n",
       "    <tr>\n",
       "      <th>4</th>\n",
       "      <td>Y</td>\n",
       "      <td>0</td>\n",
       "      <td>A</td>\n",
       "      <td>0</td>\n",
       "      <td>10.0000</td>\n",
       "      <td>3.0000</td>\n",
       "      <td>v000089</td>\n",
       "      <td>10.0000</td>\n",
       "    </tr>\n",
       "    <tr>\n",
       "      <th>6</th>\n",
       "      <td>Y</td>\n",
       "      <td>1</td>\n",
       "      <td>A</td>\n",
       "      <td>0</td>\n",
       "      <td>inf</td>\n",
       "      <td>5.0000</td>\n",
       "      <td>v000090</td>\n",
       "      <td>0.0000</td>\n",
       "    </tr>\n",
       "    <tr>\n",
       "      <th>7</th>\n",
       "      <td>Y</td>\n",
       "      <td>1</td>\n",
       "      <td>B</td>\n",
       "      <td>0</td>\n",
       "      <td>inf</td>\n",
       "      <td>3.0000</td>\n",
       "      <td>v000091</td>\n",
       "      <td>30.0000</td>\n",
       "    </tr>\n",
       "  </tbody>\n",
       "</table>\n",
       "</div>"
      ],
      "text/plain": [
       "  工場  レーン 製品  下限      上限    生産費     VarY    ValY\n",
       "0  X    0  A   0     inf 1.0000  v000087 20.0000\n",
       "3  X    1  B   0     inf 1.0000  v000088 10.0000\n",
       "4  Y    0  A   0 10.0000 3.0000  v000089 10.0000\n",
       "6  Y    1  A   0     inf 5.0000  v000090  0.0000\n",
       "7  Y    1  B   0     inf 3.0000  v000091 30.0000"
      ]
     },
     "metadata": {},
     "output_type": "display_data"
    },
    {
     "data": {
      "text/html": [
       "<div>\n",
       "<style scoped>\n",
       "    .dataframe tbody tr th:only-of-type {\n",
       "        vertical-align: middle;\n",
       "    }\n",
       "\n",
       "    .dataframe tbody tr th {\n",
       "        vertical-align: top;\n",
       "    }\n",
       "\n",
       "    .dataframe thead th {\n",
       "        text-align: right;\n",
       "    }\n",
       "</style>\n",
       "<table border=\"1\" class=\"dataframe\">\n",
       "  <thead>\n",
       "    <tr style=\"text-align: right;\">\n",
       "      <th></th>\n",
       "      <th>需要地</th>\n",
       "      <th>工場</th>\n",
       "      <th>輸送費</th>\n",
       "      <th>製品</th>\n",
       "      <th>VarX</th>\n",
       "      <th>ValX</th>\n",
       "    </tr>\n",
       "  </thead>\n",
       "  <tbody>\n",
       "    <tr>\n",
       "      <th>0</th>\n",
       "      <td>P</td>\n",
       "      <td>X</td>\n",
       "      <td>1</td>\n",
       "      <td>A</td>\n",
       "      <td>v000079</td>\n",
       "      <td>10.0000</td>\n",
       "    </tr>\n",
       "    <tr>\n",
       "      <th>1</th>\n",
       "      <td>P</td>\n",
       "      <td>X</td>\n",
       "      <td>1</td>\n",
       "      <td>B</td>\n",
       "      <td>v000080</td>\n",
       "      <td>10.0000</td>\n",
       "    </tr>\n",
       "    <tr>\n",
       "      <th>2</th>\n",
       "      <td>Q</td>\n",
       "      <td>X</td>\n",
       "      <td>3</td>\n",
       "      <td>A</td>\n",
       "      <td>v000081</td>\n",
       "      <td>10.0000</td>\n",
       "    </tr>\n",
       "    <tr>\n",
       "      <th>3</th>\n",
       "      <td>Q</td>\n",
       "      <td>X</td>\n",
       "      <td>3</td>\n",
       "      <td>B</td>\n",
       "      <td>v000082</td>\n",
       "      <td>0.0000</td>\n",
       "    </tr>\n",
       "    <tr>\n",
       "      <th>4</th>\n",
       "      <td>P</td>\n",
       "      <td>Y</td>\n",
       "      <td>2</td>\n",
       "      <td>A</td>\n",
       "      <td>v000083</td>\n",
       "      <td>0.0000</td>\n",
       "    </tr>\n",
       "    <tr>\n",
       "      <th>5</th>\n",
       "      <td>P</td>\n",
       "      <td>Y</td>\n",
       "      <td>2</td>\n",
       "      <td>B</td>\n",
       "      <td>v000084</td>\n",
       "      <td>0.0000</td>\n",
       "    </tr>\n",
       "    <tr>\n",
       "      <th>6</th>\n",
       "      <td>Q</td>\n",
       "      <td>Y</td>\n",
       "      <td>1</td>\n",
       "      <td>A</td>\n",
       "      <td>v000085</td>\n",
       "      <td>10.0000</td>\n",
       "    </tr>\n",
       "    <tr>\n",
       "      <th>7</th>\n",
       "      <td>Q</td>\n",
       "      <td>Y</td>\n",
       "      <td>1</td>\n",
       "      <td>B</td>\n",
       "      <td>v000086</td>\n",
       "      <td>30.0000</td>\n",
       "    </tr>\n",
       "  </tbody>\n",
       "</table>\n",
       "</div>"
      ],
      "text/plain": [
       "  需要地 工場  輸送費 製品     VarX    ValX\n",
       "0   P  X    1  A  v000079 10.0000\n",
       "1   P  X    1  B  v000080 10.0000\n",
       "2   Q  X    3  A  v000081 10.0000\n",
       "3   Q  X    3  B  v000082  0.0000\n",
       "4   P  Y    2  A  v000083  0.0000\n",
       "5   P  Y    2  B  v000084  0.0000\n",
       "6   Q  Y    1  A  v000085 10.0000\n",
       "7   Q  Y    1  B  v000086 30.0000"
      ]
     },
     "metadata": {},
     "output_type": "display_data"
    }
   ],
   "source": [
    "_, shipping_cost_table2, _ = logistics_network(demand_table, shipping_cost_table, production_table)\n",
    "\n",
    "display(production_table)\n",
    "display(shipping_cost_table2)"
   ]
  },
  {
   "cell_type": "markdown",
   "metadata": {},
   "source": [
    "### Knock69: 最適ネットワークにおける輸送コストとその内訳を計算する"
   ]
  },
  {
   "cell_type": "code",
   "execution_count": 325,
   "metadata": {},
   "outputs": [
    {
     "data": {
      "text/html": [
       "<div>\n",
       "<style scoped>\n",
       "    .dataframe tbody tr th:only-of-type {\n",
       "        vertical-align: middle;\n",
       "    }\n",
       "\n",
       "    .dataframe tbody tr th {\n",
       "        vertical-align: top;\n",
       "    }\n",
       "\n",
       "    .dataframe thead th {\n",
       "        text-align: right;\n",
       "    }\n",
       "</style>\n",
       "<table border=\"1\" class=\"dataframe\">\n",
       "  <thead>\n",
       "    <tr style=\"text-align: right;\">\n",
       "      <th></th>\n",
       "      <th>需要地</th>\n",
       "      <th>工場</th>\n",
       "      <th>輸送費</th>\n",
       "      <th>製品</th>\n",
       "      <th>VarX</th>\n",
       "      <th>ValX</th>\n",
       "    </tr>\n",
       "  </thead>\n",
       "  <tbody>\n",
       "    <tr>\n",
       "      <th>0</th>\n",
       "      <td>P</td>\n",
       "      <td>X</td>\n",
       "      <td>1</td>\n",
       "      <td>A</td>\n",
       "      <td>v000079</td>\n",
       "      <td>10.0000</td>\n",
       "    </tr>\n",
       "    <tr>\n",
       "      <th>1</th>\n",
       "      <td>P</td>\n",
       "      <td>X</td>\n",
       "      <td>1</td>\n",
       "      <td>B</td>\n",
       "      <td>v000080</td>\n",
       "      <td>10.0000</td>\n",
       "    </tr>\n",
       "    <tr>\n",
       "      <th>2</th>\n",
       "      <td>Q</td>\n",
       "      <td>X</td>\n",
       "      <td>3</td>\n",
       "      <td>A</td>\n",
       "      <td>v000081</td>\n",
       "      <td>10.0000</td>\n",
       "    </tr>\n",
       "    <tr>\n",
       "      <th>3</th>\n",
       "      <td>Q</td>\n",
       "      <td>X</td>\n",
       "      <td>3</td>\n",
       "      <td>B</td>\n",
       "      <td>v000082</td>\n",
       "      <td>0.0000</td>\n",
       "    </tr>\n",
       "    <tr>\n",
       "      <th>4</th>\n",
       "      <td>P</td>\n",
       "      <td>Y</td>\n",
       "      <td>2</td>\n",
       "      <td>A</td>\n",
       "      <td>v000083</td>\n",
       "      <td>0.0000</td>\n",
       "    </tr>\n",
       "    <tr>\n",
       "      <th>5</th>\n",
       "      <td>P</td>\n",
       "      <td>Y</td>\n",
       "      <td>2</td>\n",
       "      <td>B</td>\n",
       "      <td>v000084</td>\n",
       "      <td>0.0000</td>\n",
       "    </tr>\n",
       "    <tr>\n",
       "      <th>6</th>\n",
       "      <td>Q</td>\n",
       "      <td>Y</td>\n",
       "      <td>1</td>\n",
       "      <td>A</td>\n",
       "      <td>v000085</td>\n",
       "      <td>10.0000</td>\n",
       "    </tr>\n",
       "    <tr>\n",
       "      <th>7</th>\n",
       "      <td>Q</td>\n",
       "      <td>Y</td>\n",
       "      <td>1</td>\n",
       "      <td>B</td>\n",
       "      <td>v000086</td>\n",
       "      <td>30.0000</td>\n",
       "    </tr>\n",
       "  </tbody>\n",
       "</table>\n",
       "</div>"
      ],
      "text/plain": [
       "  需要地 工場  輸送費 製品     VarX    ValX\n",
       "0   P  X    1  A  v000079 10.0000\n",
       "1   P  X    1  B  v000080 10.0000\n",
       "2   Q  X    3  A  v000081 10.0000\n",
       "3   Q  X    3  B  v000082  0.0000\n",
       "4   P  Y    2  A  v000083  0.0000\n",
       "5   P  Y    2  B  v000084  0.0000\n",
       "6   Q  Y    1  A  v000085 10.0000\n",
       "7   Q  Y    1  B  v000086 30.0000"
      ]
     },
     "metadata": {},
     "output_type": "display_data"
    },
    {
     "name": "stdout",
     "output_type": "stream",
     "text": [
      "総輸送コスト: 90.0\n"
     ]
    }
   ],
   "source": [
    "# 輸送コストの計算\n",
    "\n",
    "display(shipping_cost_table2)\n",
    "trans_cost = 0\n",
    "for i in range(len(shipping_cost_table2.index)):\n",
    "    trans_cost += shipping_cost_table2[\"輸送費\"].iloc[i] * shipping_cost_table2[\"ValX\"].iloc[i]\n",
    "\n",
    "print(f\"総輸送コスト: {trans_cost}\")"
   ]
  },
  {
   "cell_type": "markdown",
   "metadata": {},
   "source": [
    "### Knock70: 最適ネットワークにおける生産コストとその内訳を計算する"
   ]
  },
  {
   "cell_type": "code",
   "execution_count": 326,
   "metadata": {},
   "outputs": [
    {
     "data": {
      "text/html": [
       "<div>\n",
       "<style scoped>\n",
       "    .dataframe tbody tr th:only-of-type {\n",
       "        vertical-align: middle;\n",
       "    }\n",
       "\n",
       "    .dataframe tbody tr th {\n",
       "        vertical-align: top;\n",
       "    }\n",
       "\n",
       "    .dataframe thead th {\n",
       "        text-align: right;\n",
       "    }\n",
       "</style>\n",
       "<table border=\"1\" class=\"dataframe\">\n",
       "  <thead>\n",
       "    <tr style=\"text-align: right;\">\n",
       "      <th></th>\n",
       "      <th>工場</th>\n",
       "      <th>レーン</th>\n",
       "      <th>製品</th>\n",
       "      <th>下限</th>\n",
       "      <th>上限</th>\n",
       "      <th>生産費</th>\n",
       "      <th>VarY</th>\n",
       "      <th>ValY</th>\n",
       "    </tr>\n",
       "  </thead>\n",
       "  <tbody>\n",
       "    <tr>\n",
       "      <th>0</th>\n",
       "      <td>X</td>\n",
       "      <td>0</td>\n",
       "      <td>A</td>\n",
       "      <td>0</td>\n",
       "      <td>inf</td>\n",
       "      <td>1.0000</td>\n",
       "      <td>v000087</td>\n",
       "      <td>20.0000</td>\n",
       "    </tr>\n",
       "    <tr>\n",
       "      <th>3</th>\n",
       "      <td>X</td>\n",
       "      <td>1</td>\n",
       "      <td>B</td>\n",
       "      <td>0</td>\n",
       "      <td>inf</td>\n",
       "      <td>1.0000</td>\n",
       "      <td>v000088</td>\n",
       "      <td>10.0000</td>\n",
       "    </tr>\n",
       "    <tr>\n",
       "      <th>4</th>\n",
       "      <td>Y</td>\n",
       "      <td>0</td>\n",
       "      <td>A</td>\n",
       "      <td>0</td>\n",
       "      <td>10.0000</td>\n",
       "      <td>3.0000</td>\n",
       "      <td>v000089</td>\n",
       "      <td>10.0000</td>\n",
       "    </tr>\n",
       "    <tr>\n",
       "      <th>6</th>\n",
       "      <td>Y</td>\n",
       "      <td>1</td>\n",
       "      <td>A</td>\n",
       "      <td>0</td>\n",
       "      <td>inf</td>\n",
       "      <td>5.0000</td>\n",
       "      <td>v000090</td>\n",
       "      <td>0.0000</td>\n",
       "    </tr>\n",
       "    <tr>\n",
       "      <th>7</th>\n",
       "      <td>Y</td>\n",
       "      <td>1</td>\n",
       "      <td>B</td>\n",
       "      <td>0</td>\n",
       "      <td>inf</td>\n",
       "      <td>3.0000</td>\n",
       "      <td>v000091</td>\n",
       "      <td>30.0000</td>\n",
       "    </tr>\n",
       "  </tbody>\n",
       "</table>\n",
       "</div>"
      ],
      "text/plain": [
       "  工場  レーン 製品  下限      上限    生産費     VarY    ValY\n",
       "0  X    0  A   0     inf 1.0000  v000087 20.0000\n",
       "3  X    1  B   0     inf 1.0000  v000088 10.0000\n",
       "4  Y    0  A   0 10.0000 3.0000  v000089 10.0000\n",
       "6  Y    1  A   0     inf 5.0000  v000090  0.0000\n",
       "7  Y    1  B   0     inf 3.0000  v000091 30.0000"
      ]
     },
     "metadata": {},
     "output_type": "display_data"
    },
    {
     "name": "stdout",
     "output_type": "stream",
     "text": [
      "総生産コスト: 150.0\n"
     ]
    }
   ],
   "source": [
    "# 生産コストの計算\n",
    "\n",
    "display(production_table)\n",
    "product_cost = 0\n",
    "for i in range(len(production_table.index)):\n",
    "    product_cost += production_table[\"生産費\"].iloc[i] * production_table[\"ValY\"].iloc[i]\n",
    "\n",
    "print(f\"総生産コスト: {product_cost}\")"
   ]
  }
 ],
 "metadata": {
  "kernelspec": {
   "display_name": "Python 3.9.13 ('venv': venv)",
   "language": "python",
   "name": "python3"
  },
  "language_info": {
   "codemirror_mode": {
    "name": "ipython",
    "version": 3
   },
   "file_extension": ".py",
   "mimetype": "text/x-python",
   "name": "python",
   "nbconvert_exporter": "python",
   "pygments_lexer": "ipython3",
   "version": "3.9.13"
  },
  "orig_nbformat": 4,
  "vscode": {
   "interpreter": {
    "hash": "81dbdffa2555d8332052cc5706d1001114a92c16400f745eaf97970677d8084c"
   }
  }
 },
 "nbformat": 4,
 "nbformat_minor": 2
}
